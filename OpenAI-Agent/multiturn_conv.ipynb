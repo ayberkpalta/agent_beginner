{
 "cells": [
  {
   "cell_type": "code",
   "execution_count": null,
   "id": "initial_id",
   "metadata": {
    "collapsed": true
   },
   "outputs": [],
   "source": [
    "from agents import Agent, Runner, TResponseInputItem\n",
    "\n",
    "simple_agent = Agent(\n",
    "    name=\"Bob\",\n",
    "    instructions=\"You are a friendly assistant. Reply concisely.\"\n",
    ")\n",
    "\n",
    "convo: list[TResponseInputItem] = [\n",
    "    {\"content\": \"Hey!\", \"role\": \"user\"},\n",
    "    {\"content\": \"Hey! How are you? How can I help you today?\", \"role\": \"assistant\"},\n",
    "    {\"content\": \"Im having a bad day\", \"role\": \"user\"}\n",
    "]\n",
    "result = await Runner.run(simple_agent, convo)\n",
    "for message in result.to_input_list():\n",
    "    print(message)"
   ]
  },
  {
   "metadata": {},
   "cell_type": "code",
   "outputs": [],
   "execution_count": null,
   "source": [
    "convo: list[TResponseInputItem] = []\n",
    "print(\"You are now chatting with agent Bob. Type 'exit' to end the conversation.\")\n",
    "while True:\n",
    "    user_input = input(\"You: \")\n",
    "    print(\"You: \" + user_input)\n",
    "\n",
    "    if user_input == \"exit\":\n",
    "        print(\"Goodbye!\")\n",
    "        break\n",
    "\n",
    "    convo.append({\"content\": user_input, \"role\": \"user\"})\n",
    "    result = await Runner.run(simple_agent, convo)\n",
    "\n",
    "    print(f\"Agent: {result.final_output}\")\n",
    "\n",
    "    convo = result.to_input_list()\n"
   ],
   "id": "8e2e00a299cf9bef"
  },
  {
   "metadata": {},
   "cell_type": "code",
   "outputs": [],
   "execution_count": null,
   "source": [
    "from agents import Agent, Runner, handoff, RunContextWrapper\n",
    "\n",
    "history_tutor_agent = Agent(\n",
    "    name=\"History Tutor\",\n",
    "    handoff_description=\"Specialist agent for historical questions\",\n",
    "    instructions=\"You provide assistance with historical queries. Explain important events and context clearly.\",\n",
    ")\n",
    "\n",
    "math_tutor_agent = Agent(\n",
    "    name=\"Math Tutor\",\n",
    "    handoff_description=\"Specialist agent for math questions\",\n",
    "    instructions=\"You provide assistance with math queries. Explain your reasoning at each step and include examples\"\n",
    ")\n",
    "\n",
    "def on_math_handoff(ctx: RunContextWrapper[None]):\n",
    "    print(\"Handing off to math tutor agent\")\n",
    "\n",
    "# This agent has the capability to handoff to either the history or math tutor agent\n",
    "triage_agent = Agent(\n",
    "    name=\"Triage Agent\",\n",
    "    instructions=\"You determine which agent to use based on the user's homework question.\" +\n",
    "    \"If neither agent is relevant, provide a general response.\",\n",
    "    handoffs=[history_tutor_agent, handoff(math_tutor_agent, on_handoff=on_math_handoff)]\n",
    ")\n",
    "\n",
    "convo: list[TResponseInputItem] = []\n",
    "last_agent = triage_agent\n",
    "print(\"You are now chatting with the triage agent. Type 'exit' to end the conversation.\")\n",
    "while True:\n",
    "    user_input = input(\"You: \")\n",
    "    print(\"You: \" + user_input)\n",
    "\n",
    "    if user_input == \"exit\":\n",
    "        print(\"Goodbye!\")\n",
    "        break\n",
    "\n",
    "    convo.append({\"content\": user_input, \"role\": \"user\"})\n",
    "    result = await Runner.run(last_agent, convo)\n",
    "\n",
    "    convo = result.to_input_list()\n",
    "    last_agent = result.last_agent\n",
    "\n",
    "    print(f\"{last_agent.name}: {result.final_output}\\n\")"
   ],
   "id": "5702eb465d596d19"
  }
 ],
 "metadata": {
  "kernelspec": {
   "display_name": "Python 3",
   "language": "python",
   "name": "python3"
  },
  "language_info": {
   "codemirror_mode": {
    "name": "ipython",
    "version": 2
   },
   "file_extension": ".py",
   "mimetype": "text/x-python",
   "name": "python",
   "nbconvert_exporter": "python",
   "pygments_lexer": "ipython2",
   "version": "2.7.6"
  }
 },
 "nbformat": 4,
 "nbformat_minor": 5
}
