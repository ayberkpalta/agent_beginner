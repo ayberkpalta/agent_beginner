{
 "cells": [
  {
   "cell_type": "code",
   "id": "initial_id",
   "metadata": {
    "collapsed": true,
    "ExecuteTime": {
     "end_time": "2025-06-25T09:40:31.005077Z",
     "start_time": "2025-06-25T09:40:30.998528Z"
    }
   },
   "source": [
    "import nest_asyncio\n",
    "import os\n",
    "from dotenv import load_dotenv\n",
    "\n",
    "load_dotenv()\n",
    "nest_asyncio.apply()\n",
    "\n",
    "api_key = os.environ.get('OPENAI_API_KEY')\n"
   ],
   "outputs": [],
   "execution_count": 45
  },
  {
   "metadata": {
    "ExecuteTime": {
     "end_time": "2025-06-25T08:41:55.197795Z",
     "start_time": "2025-06-25T08:41:54.265336Z"
    }
   },
   "cell_type": "code",
   "source": [
    "from agents import Agent, Runner, handoff\n",
    "\n",
    "agent=Agent(\n",
    "    name=\"Basic Agent\",\n",
    "    instructions= \"You are a helpful assistant. Respond on in all caps.\",\n",
    "    model=\"gpt-4o-mini\"\n",
    ")\n",
    "result= await Runner.run(agent,\"Hello how are you?\")\n",
    "result.final_output"
   ],
   "id": "488b57b9422ba778",
   "outputs": [
    {
     "data": {
      "text/plain": [
       "\"HELLO! I'M DOING WELL, THANK YOU! HOW ABOUT YOU?\""
      ]
     },
     "execution_count": 34,
     "metadata": {},
     "output_type": "execute_result"
    }
   ],
   "execution_count": 34
  },
  {
   "metadata": {
    "ExecuteTime": {
     "end_time": "2025-06-25T08:41:58.566603Z",
     "start_time": "2025-06-25T08:41:57.233180Z"
    }
   },
   "cell_type": "code",
   "source": [
    "joke_agent = Agent(\n",
    "    name=\"Joke Agent\",\n",
    "    instructions=\"You are a joke teller. You are given a topic and you need to tell a joke about it\",\n",
    "    model=\"gpt-4o-mini\"\n",
    ")\n",
    "\n",
    "topic= \"AI\"\n",
    "result=await Runner.run(joke_agent,topic)\n",
    "result.final_output"
   ],
   "id": "277ffdb693800863",
   "outputs": [
    {
     "data": {
      "text/plain": [
       "\"Why did the AI go broke?  \\n\\nBecause it couldn't find its cache!\""
      ]
     },
     "execution_count": 35,
     "metadata": {},
     "output_type": "execute_result"
    }
   ],
   "execution_count": 35
  },
  {
   "metadata": {
    "ExecuteTime": {
     "end_time": "2025-06-25T08:47:51.140276Z",
     "start_time": "2025-06-25T08:47:48.909286Z"
    }
   },
   "cell_type": "code",
   "source": [
    "language_agent=Agent(\n",
    "    name=\"Language Agent\",\n",
    "    instructions=\"You are a language expert. You are given a joke and you need to rewrite it in different languages.\",\n",
    ")\n",
    "joke_result= await Runner.run(joke_agent,topic)\n",
    "translated_result= await Runner.run(language_agent,f\"Translate this joke the Turkish:{joke_result.final_output}\")\n",
    "print(f\"Original Joke:\\n{joke_result.final_output}\\n\")\n",
    "print(f\"Translated Joke:\\n{translated_result.final_output}\\n\")"
   ],
   "id": "3cadcea0f292c0fc",
   "outputs": [
    {
     "name": "stdout",
     "output_type": "stream",
     "text": [
      "Original Joke:\n",
      "Why did the AI go broke?\n",
      "\n",
      "Because it lost its cache!\n",
      "\n",
      "Translated Joke:\n",
      "Here's the joke in Turkish:\n",
      "\n",
      "Yapay zeka neden iflas etti?\n",
      "\n",
      "Çünkü önbelleğini kaybetti!\n",
      "\n"
     ]
    }
   ],
   "execution_count": 38
  },
  {
   "metadata": {},
   "cell_type": "markdown",
   "source": [
    "# Structured Outputs\n",
    "Structured outputs are a way to format the output of an LLM in a structured manner."
   ],
   "id": "a376645faf66ec93"
  },
  {
   "metadata": {
    "ExecuteTime": {
     "end_time": "2025-06-25T08:57:53.196414Z",
     "start_time": "2025-06-25T08:57:50.021902Z"
    }
   },
   "cell_type": "code",
   "source": [
    "from pydantic import BaseModel\n",
    "\n",
    "class recipe(BaseModel):\n",
    "    title:str\n",
    "    ingredients:list[str]\n",
    "    cooking_time:int #in minutes\n",
    "    servings:int\n",
    "\n",
    "recipe_agent=Agent(\n",
    "    name=\"Recipe Agent\",\n",
    "    instructions=(\"You are an agent for creating recipes. You will be given the name of a food and your job is to output that as an actual detailed recipe. The cooking time should be in minutes\"),\n",
    "    output_type=recipe\n",
    ")\n",
    "response = await Runner.run(recipe_agent,\"Italian Risotto\")\n",
    "response.final_output"
   ],
   "id": "ba28c3d9760367e0",
   "outputs": [
    {
     "data": {
      "text/plain": [
       "recipe(title='Classic Italian Risotto', ingredients=['2 cups Arborio rice', '4 cups chicken or vegetable broth, kept warm', '1 cup dry white wine', '1 onion, finely chopped', '2 cloves garlic, minced', '4 tablespoons unsalted butter', '1 cup grated Parmesan cheese', 'Salt and freshly ground black pepper, to taste', '2 tablespoons olive oil', 'Chopped fresh parsley, for garnish'], cooking_time=45, servings=4)"
      ]
     },
     "execution_count": 39,
     "metadata": {},
     "output_type": "execute_result"
    }
   ],
   "execution_count": 39
  },
  {
   "metadata": {},
   "cell_type": "markdown",
   "source": [
    "# Tool Calling\n",
    "Tool calling is a way to extend the capabilities of an LLM by allowing it to call external tools or APIs."
   ],
   "id": "284390a2c69b1ddf"
  },
  {
   "metadata": {
    "ExecuteTime": {
     "end_time": "2025-06-25T09:31:28.948212Z",
     "start_time": "2025-06-25T09:31:25.850321Z"
    }
   },
   "cell_type": "code",
   "source": [
    "from agents import Agent,function_tool\n",
    "\n",
    "@function_tool\n",
    "def get_weather(city:str)->str:\n",
    "    print(f\"Getting weather for: {city}\")\n",
    "    return \"rainy\"\n",
    "\n",
    "@function_tool\n",
    "def get_temperature(city:str)->str:\n",
    "    print(f\"Getting temperature for: {city}\")\n",
    "    print(f\"Getting temperature for: {city}\")\n",
    "    return \"70 degrees\"\n",
    "\n",
    "agent=Agent(\n",
    "    name=\"Weather Agent\",\n",
    "    instructions=\"You are the local weather agent. You are given a city and you need to tell the weather and tempreture.\",\n",
    "    tools=[get_weather,get_temperature]\n",
    ")\n",
    "\n",
    "result = await Runner.run(agent,\"What is the weather today?\")\n",
    "result.final_output\n",
    "\n",
    "result = await Runner.run(agent,\"What is the weather for Istanbul?\")\n",
    "result.final_output"
   ],
   "id": "c7e82859bf364744",
   "outputs": [
    {
     "name": "stdout",
     "output_type": "stream",
     "text": [
      "Getting weather for: Istanbul\n",
      "Getting temperature for: Istanbul\n",
      "Getting temperature for: Istanbul\n"
     ]
    },
    {
     "data": {
      "text/plain": [
       "'The weather in Istanbul is currently rainy, with a temperature of 70 degrees Fahrenheit.'"
      ]
     },
     "execution_count": 43,
     "metadata": {},
     "output_type": "execute_result"
    }
   ],
   "execution_count": 43
  },
  {
   "metadata": {
    "ExecuteTime": {
     "end_time": "2025-06-25T09:40:11.682388Z",
     "start_time": "2025-06-25T09:40:02.024821Z"
    }
   },
   "cell_type": "code",
   "source": [
    "\"\"\"Search Tool\"\"\"\n",
    "from agents import WebSearchTool\n",
    "\n",
    "news_agent=Agent(\n",
    "    name=\"News Agent\",\n",
    "    instructions=\"You are a news reporter. Your job is to find recent news articles on the internet about World politics\",\n",
    "    tools=[WebSearchTool()]\n",
    ")\n",
    "result = await Runner.run(news_agent,\"What is the news articles today?\")\n",
    "print(result.final_output)"
   ],
   "id": "9136b8e5025ea559",
   "outputs": [
    {
     "name": "stdout",
     "output_type": "stream",
     "text": [
      "Here are the latest developments in world politics as of June 25, 2025:\n",
      "\n",
      "**NATO Summit in The Hague**\n",
      "\n",
      "The 2025 NATO Summit is currently underway in The Hague, Netherlands, from June 24 to 25. This marks the first time the Netherlands has hosted a NATO summit. Discussions are centered on member states' commitments to increase defense spending to 5% of GDP. Notably, New Zealand is participating as the only non-Atlantic partner country. ([en.wikipedia.org](https://en.wikipedia.org/wiki/2025_The_Hague_NATO_summit?utm_source=openai))\n",
      "\n",
      "**U.S. Strikes on Iranian Nuclear Facilities**\n",
      "\n",
      "On June 21, 2025, the United States conducted airstrikes targeting Iran's Fordow uranium enrichment facility, the Natanz nuclear facility, and the Isfahan nuclear technology center. President Donald Trump stated that these actions \"completely and totally obliterated\" Iran's key nuclear enrichment facilities. However, initial assessments suggest that while above-ground structures were damaged, underground facilities and centrifuges may have only been delayed by a few months. ([en.wikipedia.org](https://en.wikipedia.org/wiki/United_States_strikes_on_Iranian_nuclear_sites?utm_source=openai))\n",
      "\n",
      "**Iranian Opposition Proposes Transitional Government**\n",
      "\n",
      "In February 2025, Iranian opposition groups convened at the \"Munich Convergence Summit\" and selected Reza Pahlavi, son of the former Shah, to lead a transitional government. On June 17, amid escalating conflicts, Pahlavi declared that the current Iranian regime was collapsing and urged citizens to \"rise\" and \"reclaim\" Iran. He outlined plans for a 100-day transition period leading to free democratic elections. ([en.wikipedia.org](https://en.wikipedia.org/wiki/Iran_transition_government?utm_source=openai))\n",
      "\n",
      "**South Korea's New Leadership**\n",
      "\n",
      "Lee Jae-myung was elected President of South Korea on June 3, 2025, and inaugurated the following day. He has nominated Kim Min-seok as Prime Minister and Ahn Gyu-back as Defense Minister, marking the first time since 1961 that a civilian has been chosen for this role. Additionally, South Korea has ratified the Hague Adoption Convention and suspended loudspeaker broadcasts across the DMZ to improve relations with North Korea. ([en.wikipedia.org](https://en.wikipedia.org/wiki/2025_in_South_Korea?utm_source=openai))\n",
      "\n",
      "**Poland's Presidential Election**\n",
      "\n",
      "In a surprising outcome, right-wing nationalist Karol Nawrocki won Poland's presidential election, defeating liberal rival Rafal Trzaskowski. Nawrocki, who received support from President Trump, backs Poland's support for Ukraine against Russian aggression but opposes Ukraine's membership in NATO and the EU. This victory signals potential shifts in Poland's foreign policy and its relations with neighboring countries. ([newsweek.com](https://www.newsweek.com/thebulletin/2025-06-02?utm_source=openai))\n",
      "\n",
      "\n",
      "## Editorial Perspectives on Recent U.S. Political Actions:\n",
      "- [Editorial Roundup: United States](https://apnews.com/article/aa747371d02edb283c6457871e9d36e2?utm_source=openai) \n"
     ]
    }
   ],
   "execution_count": 44
  },
  {
   "metadata": {},
   "cell_type": "markdown",
   "source": [
    "# Handoffs\n",
    "A way for an agent to invoke another agent"
   ],
   "id": "112244b6bfc3020d"
  },
  {
   "metadata": {
    "ExecuteTime": {
     "end_time": "2025-06-25T10:20:10.227098Z",
     "start_time": "2025-06-25T10:19:51.154945Z"
    }
   },
   "cell_type": "code",
   "source": [
    "    from agents import Agent,Runner\n",
    "from pydantic import BaseModel\n",
    "\n",
    "class Tutorial(BaseModel):\n",
    "    outline:str\n",
    "    tutorial:str\n",
    "\n",
    "tutorial_generator=Agent(\n",
    "    name=\"Tutorial Generator\",\n",
    "    handoff_description=\"Used for generating a tutorial based on an outline\",\n",
    "    instructions=(\"Given a programming topic and an outline, your job is to generate code snippets for each section of the outline. Format the tutorial in Markdown using a mix of text for explanation and code snippets for examples. Where it makes sense, include comments in the code snippets to further explain the code.\"),\n",
    "    output_type=Tutorial\n",
    "\n",
    "    )\n",
    "\n",
    "outline_builder= Agent(\n",
    "    name=\"Outline Builder\",\n",
    "    instructions=\" Given a particular programming topic, your job is to help come up with a tutorial. You will do that by crafting an outline. After making outline, hand it to the tutorial generator agent\",\n",
    "\n",
    ")\n",
    "\n",
    "handoffs=[tutorial_generator]\n",
    "\n",
    "tutorial_response=await Runner.run(outline_builder,\"Loop in python\")\n",
    "print(tutorial_response.final_output)"
   ],
   "id": "382d702faeaefc1f",
   "outputs": [
    {
     "name": "stdout",
     "output_type": "stream",
     "text": [
      "# Python Loops Tutorial Outline\n",
      "\n",
      "## Introduction\n",
      "- Brief explanation of why loops are important in programming\n",
      "- Overview of types of loops in Python\n",
      "\n",
      "## 1. For Loop\n",
      "- Definition and syntax\n",
      "- Basic examples\n",
      "- Using `range()`\n",
      "  - Examples using `range()` with different parameters\n",
      "- Iterating over lists, tuples, and strings\n",
      "  - Examples of each\n",
      "- Nested for loops\n",
      "  - Explanation and examples\n",
      "\n",
      "## 2. While Loop\n",
      "- Definition and syntax\n",
      "- Basic examples\n",
      "- Comparison with for loops\n",
      "- Common use cases for while loops\n",
      "  - Examples\n",
      "\n",
      "## 3. Loop Control Statements\n",
      "- Break\n",
      "  - Explanation and examples\n",
      "- Continue\n",
      "  - Explanation and examples\n",
      "- Pass\n",
      "  - Explanation and examples\n",
      "\n",
      "## 4. The Else Clause in Loops\n",
      "- Explanation of the else clause\n",
      "- Examples with for and while loops\n",
      "- Real-world examples\n",
      "\n",
      "## 5. Looping Techniques\n",
      "- Looping with indices using `enumerate()`\n",
      "  - Examples\n",
      "- Looping over two or more sequences using `zip()`\n",
      "  - Examples\n",
      "- List comprehensions as an alternative to loops\n",
      "  - Brief explanation and examples\n",
      "\n",
      "## 6. Common Mistakes and How to Avoid Them\n",
      "- Infinite loops\n",
      "  - How they occur and how to fix them\n",
      "- Modifying a list while iterating over it\n",
      "  - Explanation and solutions\n",
      "\n",
      "## 7. Practical Applications of Loops\n",
      "- Real-world scenarios where loops are useful\n",
      "- Simple project idea using loops\n",
      "\n",
      "## Conclusion\n",
      "- Recap of key points\n",
      "- Encouragement to practice with coding challenges\n",
      "\n",
      "## Additional Resources\n",
      "- Links to documentation\n",
      "- Suggested exercises or practice problems\n",
      "\n",
      "---\n",
      "\n",
      "Please proceed with the tutorial generation based on this outline.\n"
     ]
    }
   ],
   "execution_count": 48
  },
  {
   "metadata": {
    "ExecuteTime": {
     "end_time": "2025-06-25T10:42:57.072681Z",
     "start_time": "2025-06-25T10:42:44.676147Z"
    }
   },
   "cell_type": "code",
   "source": [
    "from agents import Agent,Runner,handoff,RunContextWrapper\n",
    "\n",
    "history_tutor_agent=Agent(\n",
    "    name=\"History Tutor Agent\",\n",
    "    handoff_description=\"Specialist agent for historical questions\",\n",
    "    instructions=\"You provide assistance with historical queries. Explain important events and context clearly.\",\n",
    ")\n",
    "\n",
    "math_tutor_agent=Agent(\n",
    "    name=\"Math Tutor Agent\",\n",
    "    handoff_description=\"Specialist agent for math questions\",\n",
    "    instructions=\"You provide assistance with math queries. Explain your reasoning at each step and include examples.\",\n",
    "\n",
    ")\n",
    "\n",
    "def on_math_handoff(ctx: RunContextWrapper[None]):\n",
    "    print(\"Handing off to math tutor agent\")\n",
    "\n",
    "def on_history_handoff(ctx: RunContextWrapper[None]):\n",
    "    print(\"Handing off to history tutor agent\")\n",
    "\n",
    "\n",
    "triage_agent=Agent(\n",
    "    name=\"Triage Agent\",\n",
    "    instructions=\"You determine which agent to use based on the user's homework questions. If neither agent is relevant, provide a general response.\",\n",
    "    handoffs=[\n",
    "    handoff(history_tutor_agent,on_handoff=on_history_handoff),\n",
    "    handoff(math_tutor_agent,on_handoff=on_math_handoff)\n",
    "    ]\n",
    ")\n",
    "\n",
    "\"\"\"result = await Runner.run(triage_agent,\"how do I add 2 and 4\")\n",
    "result.final_output\"\"\"\n",
    "\n",
    "result2=await Runner.run(triage_agent,\"how did ww2 start?\")\n",
    "result2.final_output"
   ],
   "id": "1c2714803e73343b",
   "outputs": [
    {
     "name": "stdout",
     "output_type": "stream",
     "text": [
      "Handing off to math tutor agent\n",
      "Handing off to history tutor agent\n"
     ]
    },
    {
     "data": {
      "text/plain": [
       "'World War II began on September 1, 1939, when Germany, led by Adolf Hitler, invaded Poland. This invasion prompted Britain and France to declare war on Germany two days later, on September 3, marking the official start of the war.\\n\\n### Context Leading to the War:\\n\\n1. **Treaty of Versailles (1919):** The harsh terms imposed on Germany after World War I created economic distress and national resentment. This environment facilitated the rise of Adolf Hitler and the Nazi Party, who promised to restore Germany’s power and pride.\\n\\n2. **Rise of Totalitarian Regimes:** In the 1930s, aggressive totalitarian regimes came to power in Germany, Italy (under Mussolini), and Japan, each pursuing expansionist policies.\\n\\n3. **Expansionist Policies:**\\n   - **Germany:** Following the remilitarization of the Rhineland and the annexation of Austria in the Anschluss (1938), Hitler turned his attention to Czechoslovakia and later, Poland.\\n   - **Italy:** Invaded Ethiopia in 1935.\\n   - **Japan:** Expanded its influence in East Asia, notably invading Manchuria in 1931 and China in 1937.\\n\\n4. **Appeasement:** Initially, European powers, particularly Britain and France, adopted a policy of appeasement, allowing Hitler to expand German territory with little opposition, hoping to avoid another large-scale conflict.\\n\\n5. **The Munich Agreement (1938):** Britain and France agreed to allow Germany to annex the Sudetenland, part of Czechoslovakia, hoping this concession would secure peace.\\n\\n6. **Nazi-Soviet Pact (1939):** Also known as the Molotov-Ribbentrop Pact, this non-aggression treaty between Germany and the Soviet Union secretly divided Eastern Europe into spheres of influence, enabling Germany to invade Poland without fear of Soviet intervention.\\n\\nThese factors combined to set the stage for global conflict, transforming regional tensions into World War II.'"
      ]
     },
     "execution_count": 50,
     "metadata": {},
     "output_type": "execute_result"
    }
   ],
   "execution_count": 50
  },
  {
   "metadata": {
    "ExecuteTime": {
     "end_time": "2025-06-25T11:08:08.549455Z",
     "start_time": "2025-06-25T11:08:02.904137Z"
    }
   },
   "cell_type": "code",
   "source": [
    "from agents import function_tool,trace\n",
    "\n",
    "class ManagerEscalation(BaseModel):\n",
    "    issue: str # the issue being escalated\n",
    "    why: str # why can you not handle it? Used for training in the future\n",
    "\n",
    "@function_tool\n",
    "def create_ticket(issue: str):\n",
    "    \"\"\"\"\n",
    "    Create a ticket in the system for an issue to be resolved.\n",
    "    \"\"\"\n",
    "    print(f\"Creating ticket for issue: {issue}\")\n",
    "    return \"Ticket created. ID: 12345\"\n",
    "    # In a real-world scenario, this would interact with a ticketing system\n",
    "\n",
    "manager_agent = Agent(\n",
    "    name=\"Manager\",\n",
    "    handoff_description=\"Handles escalated issues that require managerial attention\",\n",
    "    instructions=(\n",
    "        \"You handle escalated customer issues that the initial custom service agent could not resolve. \"\n",
    "        \"You will receive the issue and the reason for escalation. If the issue cannot be immediately resolved for the \"\n",
    "        \"customer, create a ticket in the system and inform the customer.\"\n",
    "    ),\n",
    "    tools=[create_ticket],\n",
    ")\n",
    "\n",
    "def on_manager_handoff(ctx: RunContextWrapper[None], input: ManagerEscalation):\n",
    "    print(\"Escalating to manager agent: \", input.issue)\n",
    "    print(\"Reason for escalation: \", input.why)\n",
    "\n",
    "    # here we might store the escalation in a database or log it for future reference\n",
    "\n",
    "customer_service_agent = Agent(\n",
    "    name=\"Customer Service\",\n",
    "    instructions=\"You assist customers with general inquiries and basic troubleshooting. \" +\n",
    "                 \"If the issue cannot be resolved, escalate it to the Manager along with the reason why you cannot fix the issue yourself.\",\n",
    "    handoffs=[handoff(\n",
    "        agent=manager_agent,\n",
    "        input_type=ManagerEscalation,\n",
    "        on_handoff=on_manager_handoff,\n",
    "    )]\n",
    ")\n",
    "\n",
    "result = await Runner.run(customer_service_agent, \"I want a refund, but your system wont let me process it. The website is just blank for me.\")\n",
    "print(result.final_output)\n",
    "\n",
    "\"\"\"         TRACE\n",
    "\n",
    "\n",
    "with trace(\"Customer Service Hotline\"):\n",
    "    result = await Runner.run(customer_service_agent, \"Hello how much are tickets?.\")\n",
    "    print(result.final_output)\n",
    "\"\"\""
   ],
   "id": "bb7d65b5f5e3f5e1",
   "outputs": [
    {
     "name": "stdout",
     "output_type": "stream",
     "text": [
      "Escalating to manager agent:  Customer unable to process refund due to website displaying a blank page.\n",
      "Reason for escalation:  Technical issue with the website interface preventing refund processing. Needs investigation from the technical team to resolve the system error.\n",
      "Creating ticket for issue: Customer unable to process refund due to website displaying a blank page. Needs technical team to investigate and resolve the system error.\n",
      "I've created a ticket for your issue, and our technical team will investigate the problem. Your ticket ID is **12345**. We appreciate your patience while we work to resolve this. If you have further questions, please let me know!\n"
     ]
    }
   ],
   "execution_count": 56
  },
  {
   "metadata": {},
   "cell_type": "markdown",
   "source": [
    "# Tracing\n",
    "A way to see what the agents are doing"
   ],
   "id": "e138e241c2fce564"
  },
  {
   "metadata": {},
   "cell_type": "code",
   "outputs": [],
   "execution_count": null,
   "source": [
    "from agents import trace\n",
    "\n",
    "joke_agent = Agent(\n",
    "    name=\"Joke Agent\",\n",
    "    instructions=\"You are a joke teller. You are given a topic and you need to tell a joke about it\",\n",
    "    model=\"gpt-4o-mini\"\n",
    ")\n",
    "language_agent=Agent(\n",
    "    name=\"Language Agent\",\n",
    "    instructions=\"You are a language expert. You are given a joke and you need to rewrite it in different languages.\",\n",
    ")\n",
    "with trace(\"Joke Translation Workflow\"):\n",
    "    joke_result=await Runner.run(joke_agent,\"Cheese\")\n",
    "    translated_result=await Runner.run(language_agent,f\"Translate this joke the Turkish:{joke_result.final_output}\")\n",
    "\n",
    "    print(f\"Translated Joke:\\n{translated_result.final_output}\\n\")"
   ],
   "id": "f132e3ece423391f"
  }
 ],
 "metadata": {
  "kernelspec": {
   "display_name": "Python 3",
   "language": "python",
   "name": "python3"
  },
  "language_info": {
   "codemirror_mode": {
    "name": "ipython",
    "version": 2
   },
   "file_extension": ".py",
   "mimetype": "text/x-python",
   "name": "python",
   "nbconvert_exporter": "python",
   "pygments_lexer": "ipython2",
   "version": "2.7.6"
  }
 },
 "nbformat": 4,
 "nbformat_minor": 5
}
