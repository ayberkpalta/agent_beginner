{
 "cells": [
  {
   "metadata": {},
   "cell_type": "markdown",
   "source": "## Sequential Agent",
   "id": "a0a98770fc5c94d8"
  },
  {
   "cell_type": "code",
   "id": "initial_id",
   "metadata": {
    "collapsed": true,
    "ExecuteTime": {
     "end_time": "2025-06-22T20:16:17.447472Z",
     "start_time": "2025-06-22T20:16:17.215309Z"
    }
   },
   "source": [
    "from typing import List, TypedDict\n",
    "from langgraph.graph import StateGraph"
   ],
   "outputs": [],
   "execution_count": 2
  },
  {
   "metadata": {
    "ExecuteTime": {
     "end_time": "2025-06-22T20:20:59.681843Z",
     "start_time": "2025-06-22T20:20:59.676892Z"
    }
   },
   "cell_type": "code",
   "source": [
    "class AgentState(TypedDict):\n",
    "    name: str\n",
    "    age:int\n",
    "    final:str"
   ],
   "id": "3661bcb6d5b0cd1e",
   "outputs": [],
   "execution_count": 8
  },
  {
   "metadata": {
    "ExecuteTime": {
     "end_time": "2025-06-22T20:18:16.869379Z",
     "start_time": "2025-06-22T20:18:16.862309Z"
    }
   },
   "cell_type": "code",
   "source": [
    "def first_node(state:AgentState)->AgentState:\n",
    "    \"\"\"This is the first node of our sequence\"\"\"\n",
    "\n",
    "    state[\"final\"]= f\"Hi {state['name']}!\"\n",
    "    return state\n",
    "\n",
    "def second_node(state:AgentState)->AgentState:\n",
    "    \"\"\"This is the second node of our sequence\"\"\"\n",
    "    state[\"final\"]= state[\"final\"] + f\" You are {state['age']} years old.\"\n",
    "    return state"
   ],
   "id": "bb14ae2a7770b42a",
   "outputs": [],
   "execution_count": 4
  },
  {
   "metadata": {
    "ExecuteTime": {
     "end_time": "2025-06-22T20:20:20.969981Z",
     "start_time": "2025-06-22T20:20:20.958397Z"
    }
   },
   "cell_type": "code",
   "source": [
    "graph = StateGraph(AgentState)\n",
    "\n",
    "graph.add_node(\"first_node\",first_node)\n",
    "graph.add_node(\"second_node\",second_node)\n",
    "\n",
    "graph.set_entry_point(\"first_node\")\n",
    "graph.add_edge(\"first_node\", \"second_node\")\n",
    "graph.set_finish_point(\"second_node\")\n",
    "\n",
    "app=graph.compile()"
   ],
   "id": "2ffa252da92ee2a2",
   "outputs": [],
   "execution_count": 6
  },
  {
   "metadata": {
    "ExecuteTime": {
     "end_time": "2025-06-22T20:20:32.101380Z",
     "start_time": "2025-06-22T20:20:31.897754Z"
    }
   },
   "cell_type": "code",
   "source": [
    "from IPython.display import Image, display\n",
    "display(Image(app.get_graph().draw_mermaid_png()))"
   ],
   "id": "98913c576529b2d3",
   "outputs": [
    {
     "data": {
      "image/png": "[encoded data removed]",
      "text/plain": [
       "<IPython.core.display.Image object>"
      ]
     },
     "metadata": {},
     "output_type": "display_data"
    }
   ],
   "execution_count": 7
  },
  {
   "metadata": {
    "ExecuteTime": {
     "end_time": "2025-06-22T20:21:18.513945Z",
     "start_time": "2025-06-22T20:21:18.510110Z"
    }
   },
   "cell_type": "code",
   "source": [
    "result=app.invoke({\"name\": \"Ayberk\", \"age\":24})\n",
    "print(result)"
   ],
   "id": "d0276769a26f8d6d",
   "outputs": [
    {
     "name": "stdout",
     "output_type": "stream",
     "text": [
      "{'name': 'Ayberk', 'age': 24, 'final': 'Hi Ayberk! You are 24 years old.'}\n"
     ]
    }
   ],
   "execution_count": 10
  },
  {
   "metadata": {
    "ExecuteTime": {
     "end_time": "2025-06-22T20:21:34.222240Z",
     "start_time": "2025-06-22T20:21:34.214286Z"
    }
   },
   "cell_type": "code",
   "source": "print(result[\"final\"])",
   "id": "65babf8da06e20b",
   "outputs": [
    {
     "name": "stdout",
     "output_type": "stream",
     "text": [
      "Hi Ayberk! You are 24 years old.\n"
     ]
    }
   ],
   "execution_count": 11
  },
  {
   "metadata": {},
   "cell_type": "markdown",
   "source": "### Exercise",
   "id": "a76496dcf48bf4c"
  },
  {
   "metadata": {
    "ExecuteTime": {
     "end_time": "2025-06-23T00:06:32.726583Z",
     "start_time": "2025-06-23T00:06:32.721431Z"
    }
   },
   "cell_type": "code",
   "source": [
    "class AgentX(TypedDict):\n",
    "    name: str\n",
    "    age: int\n",
    "    skills: list\n",
    "    final: str\n",
    "\n",
    "def first_node(state:AgentX)->AgentX:\n",
    "    state[\"final\"]= f\" {state['name']} welcome to the sytsem!\"\n",
    "    return state\n",
    "\n",
    "def second_node(state:AgentX)->AgentX:\n",
    "    state[\"final\"]=  state[\"final\"] + f\"You are {state['age']} years old!\"\n",
    "    return state\n",
    "def third_node(state:AgentX)->AgentX:\n",
    "    state[\"final\"]= state[\"final\"] +  f\"You have skills in : {', '.join(state[\"skills\"])}\"\n",
    "    return state\n"
   ],
   "id": "56b626be1161a764",
   "outputs": [],
   "execution_count": 23
  },
  {
   "metadata": {
    "ExecuteTime": {
     "end_time": "2025-06-23T00:06:33.247400Z",
     "start_time": "2025-06-23T00:06:33.241722Z"
    }
   },
   "cell_type": "code",
   "source": [
    "graph = StateGraph(AgentX)\n",
    "graph.add_node(\"personalized\",first_node)\n",
    "graph.add_node(\"ages\",second_node)\n",
    "graph.add_node(\"skillss\",third_node)\n",
    "\n",
    "graph.set_entry_point(\"personalized\")\n",
    "graph.add_edge(\"personalized\", \"ages\")\n",
    "graph.add_edge(\"ages\", \"skillss\")\n",
    "graph.set_finish_point(\"skillss\")\n",
    "\n",
    "app=graph.compile()"
   ],
   "id": "e29a7ec66868d663",
   "outputs": [],
   "execution_count": 24
  },
  {
   "metadata": {
    "ExecuteTime": {
     "end_time": "2025-06-23T00:06:41.692679Z",
     "start_time": "2025-06-23T00:06:41.128316Z"
    }
   },
   "cell_type": "code",
   "source": [
    "from IPython.display import Image, display\n",
    "display(Image(app.get_graph().draw_mermaid_png()))"
   ],
   "id": "8e951d5185fc93e",
   "outputs": [
    {
     "data": {
      "image/png": "[encoded data removed]",
      "text/plain": [
       "<IPython.core.display.Image object>"
      ]
     },
     "metadata": {},
     "output_type": "display_data"
    }
   ],
   "execution_count": 25
  },
  {
   "metadata": {
    "ExecuteTime": {
     "end_time": "2025-06-23T00:07:00.576840Z",
     "start_time": "2025-06-23T00:07:00.572597Z"
    }
   },
   "cell_type": "code",
   "source": [
    "result = app.invoke({\"name\": \"Linda\", \"age\": 31, \"skills\":[\"Python\", \"Machine Learning\", \"LangGraph\"]})\n",
    "print(result[\"final\"])"
   ],
   "id": "3b5539ce4e6061a8",
   "outputs": [
    {
     "name": "stdout",
     "output_type": "stream",
     "text": [
      " Linda welcome to the sytsem!You are 31 years old!You have skills in : Python, Machine Learning, LangGraph\n"
     ]
    }
   ],
   "execution_count": 27
  },
  {
   "metadata": {},
   "cell_type": "code",
   "outputs": [],
   "execution_count": null,
   "source": "",
   "id": "28aa108ede6151aa"
  }
 ],
 "metadata": {
  "kernelspec": {
   "display_name": "Python 3",
   "language": "python",
   "name": "python3"
  },
  "language_info": {
   "codemirror_mode": {
    "name": "ipython",
    "version": 2
   },
   "file_extension": ".py",
   "mimetype": "text/x-python",
   "name": "python",
   "nbconvert_exporter": "python",
   "pygments_lexer": "ipython2",
   "version": "2.7.6"
  }
 },
 "nbformat": 4,
 "nbformat_minor": 5
}
