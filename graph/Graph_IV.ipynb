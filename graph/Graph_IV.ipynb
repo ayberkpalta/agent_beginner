{
 "cells": [
  {
   "metadata": {},
   "cell_type": "markdown",
   "source": "## Conditional Graph",
   "id": "246e5891a4ed8337"
  },
  {
   "cell_type": "code",
   "id": "initial_id",
   "metadata": {
    "collapsed": true,
    "ExecuteTime": {
     "end_time": "2025-06-23T00:11:13.200665Z",
     "start_time": "2025-06-23T00:11:12.968965Z"
    }
   },
   "source": [
    "from typing import TypedDict\n",
    "from langgraph.graph import StateGraph , START,END"
   ],
   "outputs": [],
   "execution_count": 1
  },
  {
   "metadata": {
    "ExecuteTime": {
     "end_time": "2025-06-23T00:11:50.393985Z",
     "start_time": "2025-06-23T00:11:50.388501Z"
    }
   },
   "cell_type": "code",
   "source": [
    "class AgentState(TypedDict):\n",
    "    number1: int\n",
    "    operator:str\n",
    "    number2: int\n",
    "    final:int"
   ],
   "id": "f08d35b820292ec8",
   "outputs": [],
   "execution_count": 2
  },
  {
   "metadata": {
    "ExecuteTime": {
     "end_time": "2025-06-23T00:29:47.013663Z",
     "start_time": "2025-06-23T00:29:47.008997Z"
    }
   },
   "cell_type": "code",
   "source": [
    "def adder(state:AgentState)->AgentState:\n",
    "    \"\"\"This nodes add 2 numbers\"\"\"\n",
    "    state[\"final\"]=state[\"number1\"]+state[\"number2\"]\n",
    "\n",
    "    return state\n",
    "\n",
    "\n",
    "def subtractor(state:AgentState)->AgentState:\n",
    "    \"\"\"This nodes subtract 2 numbers\"\"\"\n",
    "    state[\"final\"]=state[\"number1\"]-state[\"number2\"]\n",
    "    return state\n",
    "\n",
    "def decide_next_node(state:AgentState)->AgentState:\n",
    "    \"\"\"This node will select the next node of the graph\"\"\"\n",
    "\n",
    "    if state[\"operator\"]==\"+\":\n",
    "        return \"additional_operator\"\n",
    "\n",
    "    elif state[\"operator\"]==\"-\":\n",
    "        return \"subtractor_operator\"\n",
    "\n"
   ],
   "id": "7dfa4e6a6d03f8d6",
   "outputs": [],
   "execution_count": 5
  },
  {
   "metadata": {
    "ExecuteTime": {
     "end_time": "2025-06-23T00:29:57.547558Z",
     "start_time": "2025-06-23T00:29:57.541669Z"
    }
   },
   "cell_type": "code",
   "source": [
    "graph= StateGraph(AgentState)\n",
    "graph.add_node(\"add_node\",adder)\n",
    "graph.add_node(\"subtract_node\",subtractor)\n",
    "graph.add_node(\"router\",lambda  state:state) #pasthrough function\n",
    "\n",
    "graph.add_edge(START,\"router\")\n",
    "\n",
    "graph.add_conditional_edges(\n",
    "    \"router\",\n",
    "    decide_next_node,\n",
    "    {\n",
    "        #Edge:Node\n",
    "        \"additional_operator\":\"add_node\",\n",
    "        \"subtractor_operator\":\"subtract_node\",\n",
    "    }\n",
    ")\n",
    "\n",
    "graph.add_edge(\"add_node\",END)\n",
    "graph.add_edge(\"subtract_node\",END)\n",
    "\n",
    "app=graph.compile()"
   ],
   "id": "b55f0b3627e3f300",
   "outputs": [],
   "execution_count": 7
  },
  {
   "metadata": {
    "ExecuteTime": {
     "end_time": "2025-06-23T00:30:06.156004Z",
     "start_time": "2025-06-23T00:30:05.593814Z"
    }
   },
   "cell_type": "code",
   "source": [
    "from IPython.display import Image, display\n",
    "display(Image(app.get_graph().draw_mermaid_png()))"
   ],
   "id": "4461bcc1a4203a4e",
   "outputs": [
    {
     "data": {
      "image/png": "[encoded data removed]",
      "text/plain": [
       "<IPython.core.display.Image object>"
      ]
     },
     "metadata": {},
     "output_type": "display_data"
    }
   ],
   "execution_count": 8
  },
  {
   "metadata": {
    "ExecuteTime": {
     "end_time": "2025-06-23T00:30:51.098275Z",
     "start_time": "2025-06-23T00:30:51.086779Z"
    }
   },
   "cell_type": "code",
   "source": [
    "initial_state_1=AgentState(number1=10,operator=\"+\",number2=5)\n",
    "print(app.invoke(initial_state_1))"
   ],
   "id": "fd0a56c98dfcbc39",
   "outputs": [
    {
     "name": "stdout",
     "output_type": "stream",
     "text": [
      "{'number1': 10, 'operator': '+', 'number2': 5, 'final': 15}\n"
     ]
    }
   ],
   "execution_count": 9
  },
  {
   "metadata": {},
   "cell_type": "markdown",
   "source": "Exercise",
   "id": "829fe42f4338c6f8"
  },
  {
   "metadata": {
    "ExecuteTime": {
     "end_time": "2025-06-23T16:34:20.102030Z",
     "start_time": "2025-06-23T16:34:20.093752Z"
    }
   },
   "cell_type": "code",
   "source": [
    "class AgentState(TypedDict):\n",
    "    number1: int\n",
    "    number2: int\n",
    "    number3: int\n",
    "    number4: int\n",
    "    operation1:str\n",
    "    operation2:str\n",
    "    finalNumber1:int\n",
    "    finalNumber2:int\n",
    "\n",
    "def adder1(state:AgentState)->AgentState:\n",
    "    \"\"\"this nodes add 2 numbers\"\"\"\n",
    "    state[\"finalNumber1\"]=state[\"number1\"]+state[\"number2\"]\n",
    "    return state\n",
    "\n",
    "def subtractor1(state:AgentState)->AgentState:\n",
    "    state[\"finalNumber1\"]=state[\"number1\"]-state[\"number2\"]\n",
    "    return state\n",
    "\n",
    "def adder2(state:AgentState)->AgentState:\n",
    "    state[\"finalNumber2\"]=state[\"number3\"]+state[\"number4\"]\n",
    "    return state\n",
    "\n",
    "def subtractor2(state:AgentState)->AgentState:\n",
    "    state[\"finalNumber2\"]=state[\"number3\"]-state[\"number4\"]\n",
    "    return state\n",
    "\n",
    "def decide_next1(state:AgentState)->AgentState:\n",
    "    if state[\"operation1\"]==\"+\":\n",
    "        return \"additional_operator1\"\n",
    "    elif state[\"operation1\"]==\"-\":\n",
    "        return \"subtractor_operator1\"\n",
    "\n",
    "def decide_next2(state:AgentState)->AgentState:\n",
    "    if state[\"operation2\"]==\"+\":\n",
    "        return \"additional_operator2\"\n",
    "    elif state[\"operation2\"]==\"-\":\n",
    "        return \"subtractor_operator2\"\n",
    "\n"
   ],
   "id": "564d44fad945f31a",
   "outputs": [],
   "execution_count": 15
  },
  {
   "metadata": {
    "ExecuteTime": {
     "end_time": "2025-06-23T16:34:20.695608Z",
     "start_time": "2025-06-23T16:34:20.687412Z"
    }
   },
   "cell_type": "code",
   "source": [
    "\n",
    "graph= StateGraph(AgentState)\n",
    "graph.add_node(\"add_node\",adder1)\n",
    "graph.add_node(\"subtract_node\",subtractor1)\n",
    "graph.add_node(\"router\",lambda state:state)\n",
    "\n",
    "graph.add_node(\"add_node1\",adder2)\n",
    "graph.add_node(\"subtract_node1\",subtractor2)\n",
    "graph.add_node(\"router1\",lambda state:state)\n",
    "\n",
    "graph.add_edge(START,\"router\")\n",
    "graph.add_conditional_edges(\n",
    "    \"router\",\n",
    "    decide_next1,\n",
    "    {\n",
    "        \"additional_operator1\":\"add_node\",\n",
    "        \"subtractor_operator1\":\"subtract_node\",\n",
    "    }\n",
    ")\n",
    "graph.add_edge(\"add_node\",\"router1\")\n",
    "graph.add_edge(\"subtract_node\",\"router1\")\n",
    "\n",
    "graph.add_conditional_edges(\n",
    "    \"router1\",\n",
    "    decide_next2,\n",
    "    {\n",
    "        \"additional_operator2\":\"add_node1\",\n",
    "        \"subtractor_operator2\":\"subtract_node1\",\n",
    "    }\n",
    ")\n",
    "graph.add_edge(\"add_node1\",END)\n",
    "graph.add_edge(\"subtract_node1\",END)\n",
    "app=graph.compile()"
   ],
   "id": "5dfca10dc7db5e87",
   "outputs": [],
   "execution_count": 16
  },
  {
   "metadata": {
    "ExecuteTime": {
     "end_time": "2025-06-23T16:34:29.531562Z",
     "start_time": "2025-06-23T16:34:28.893522Z"
    }
   },
   "cell_type": "code",
   "source": [
    "from IPython.display import Image, display\n",
    "display(Image(app.get_graph().draw_mermaid_png()))\n"
   ],
   "id": "bb0189efc46eb64f",
   "outputs": [
    {
     "data": {
      "image/png": "[encoded data removed]",
      "text/plain": [
       "<IPython.core.display.Image object>"
      ]
     },
     "metadata": {},
     "output_type": "display_data"
    }
   ],
   "execution_count": 17
  },
  {
   "metadata": {
    "ExecuteTime": {
     "end_time": "2025-06-23T16:35:16.695633Z",
     "start_time": "2025-06-23T16:35:16.692696Z"
    }
   },
   "cell_type": "code",
   "source": "initial_state = AgentState(number1 = 10, operation1=\"-\", number2 = 5, number3 = 7, number4=2, operation2=\"+\", finalNumber1= 0, finalNumber2 = 0)\n",
   "id": "ef2b508aaea0839b",
   "outputs": [],
   "execution_count": 21
  },
  {
   "metadata": {
    "ExecuteTime": {
     "end_time": "2025-06-23T16:35:17.494622Z",
     "start_time": "2025-06-23T16:35:17.488305Z"
    }
   },
   "cell_type": "code",
   "source": "print(app.invoke(initial_state))",
   "id": "3635209691b756e4",
   "outputs": [
    {
     "name": "stdout",
     "output_type": "stream",
     "text": [
      "{'number1': 10, 'number2': 5, 'number3': 7, 'number4': 2, 'operation1': '-', 'operation2': '+', 'finalNumber1': 5, 'finalNumber2': 9}\n"
     ]
    }
   ],
   "execution_count": 22
  },
  {
   "metadata": {},
   "cell_type": "code",
   "outputs": [],
   "execution_count": null,
   "source": "",
   "id": "578597d6282611f5"
  }
 ],
 "metadata": {
  "kernelspec": {
   "display_name": "Python 3",
   "language": "python",
   "name": "python3"
  },
  "language_info": {
   "codemirror_mode": {
    "name": "ipython",
    "version": 2
   },
   "file_extension": ".py",
   "mimetype": "text/x-python",
   "name": "python",
   "nbconvert_exporter": "python",
   "pygments_lexer": "ipython2",
   "version": "2.7.6"
  }
 },
 "nbformat": 4,
 "nbformat_minor": 5
}
